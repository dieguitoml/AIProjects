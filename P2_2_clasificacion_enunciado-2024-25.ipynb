{
 "cells": [
  {
   "cell_type": "markdown",
   "id": "patent-amazon",
   "metadata": {
    "id": "patent-amazon"
   },
   "source": [
    "# Práctica 2: Aprendizaje automático\n",
    "\n",
    "El objetivo de esta práctica es aplicar los distintos algoritmos de aprendizaje automático disponibles en la scikit-learn [sklearn](https://scikit-learn.org/stable/) sobre varios conjuntos de datos y aprender a interpretar los resultados obtenidos. La práctica consta de __2 notebooks__ que se entregarán en las tareas de entrega habilitadas en el Campus Virtual. Este notebook corresponde al apartado de __clasificación__.\n",
    "\n",
    "Lo más importante en esta práctica no es el código Python, sino el análisis de los datos y modelos que construyas y las explicaciones razonadas de cada una de las decisiones que tomes. __No se valorarán trozos de código o gráficas sin ningún tipo de contexto o explicación__.\n",
    "\n",
    "Finalmente, recuerda establecer el parámetro `random_state` en todas las funciones que tomen decisiones aleatorias para que los resultados sean reproducibles (los resultados no varíen entre ejecuciones)."
   ]
  },
  {
   "cell_type": "markdown",
   "id": "formed-bruce",
   "metadata": {
    "id": "formed-bruce"
   },
   "source": [
    "__Número de grupo: J__\n",
    "\n",
    "__Nombres de los estudiantes: Damián Benasco Sánchez y Diego Martínez López__"
   ]
  },
  {
   "cell_type": "markdown",
   "id": "toxic-floor",
   "metadata": {
    "id": "toxic-floor"
   },
   "source": [
    "# Apartado 2: Regresión"
   ]
  },
  {
   "cell_type": "markdown",
   "id": "fancy-sympathy",
   "metadata": {
    "id": "fancy-sympathy"
   },
   "source": [
    "En este notebook trabajaremos con un conjunto de datos tomado del repositorio de la Universidad de California Irvine. En concreto, se trata de un conjunto de datos sobre distintos vinos del norte de Portugal (vinho verde)  que puedes encontrar [aquí](https://archive.ics.uci.edu/ml/datasets/wine+quality).\n",
    "\n",
    "El objetivo es modelar la calidad del vino (con un valor de 0 a 10) en base a variables que reflejan sus propiedades físicas y químicas. En concreto, las propiedades son las siguientes:\n",
    "- fixed acidity\n",
    "- volatile acidity\n",
    "- citric acid\n",
    "- residual sugar\n",
    "- chlorides\n",
    "- free sulfur dioxide\n",
    "- total sulfur dioxide\n",
    "- density\n",
    "- pH\n",
    "- sulphates\n",
    "- alcohol\n",
    "\n",
    "De cara a la memoria que vas a realizar puedes investigar sobre estas propiedades para explicar mejor qué miden y cómo afectan al vino.\n",
    "\n",
    "La calidad del vino es una variable que toma valores entre 0 y 10.\n",
    "\n",
    "Para modelar la relación entre la calidad del vino y sus propiedades usaremos una red neuronal."
   ]
  },
  {
   "cell_type": "markdown",
   "id": "heated-biotechnology",
   "metadata": {
    "id": "heated-biotechnology"
   },
   "source": [
    "## 1) Descripción de los datos\n",
    "\n",
    "Carga el fichero de datos `calidad_vinos.csv` en un dataframe.\n",
    "\n",
    "Describe el conjunto de datos e identifica aquella variable que tiene unos valores extremos más acusados con respecto a la media, y aquella que está más concentrada en torno a la media. Reflexiona sobre la posible influencia de estas variables a la hora de entrenar el perceptrón multicapa.\n",
    "\n",
    "Estudia la distribución de la calidad del vino en el conjunto de datos."
   ]
  },
  {
   "cell_type": "code",
   "execution_count": 5,
   "id": "78608394-84ec-424b-b676-785710876b22",
   "metadata": {},
   "outputs": [],
   "source": [
    "import numpy as np\n",
    "import pandas as pd\n",
    "from sklearn.cluster import KMeans\n",
    "from sklearn.cluster import AgglomerativeClustering\n",
    "from sklearn.metrics import davies_bouldin_score\n",
    "from sklearn.datasets import make_blobs\n",
    "import matplotlib as mpl\n",
    "import matplotlib.pyplot as plt\n",
    "from matplotlib.colors import ListedColormap"
   ]
  },
  {
   "cell_type": "code",
   "execution_count": 7,
   "id": "forward-plenty",
   "metadata": {
    "executionInfo": {
     "elapsed": 911,
     "status": "ok",
     "timestamp": 1741864767086,
     "user": {
      "displayName": "Ruben Fuentes-Fernandez",
      "userId": "00594856101550945388"
     },
     "user_tz": -60
    },
    "id": "forward-plenty"
   },
   "outputs": [
    {
     "data": {
      "text/html": [
       "<div>\n",
       "<style scoped>\n",
       "    .dataframe tbody tr th:only-of-type {\n",
       "        vertical-align: middle;\n",
       "    }\n",
       "\n",
       "    .dataframe tbody tr th {\n",
       "        vertical-align: top;\n",
       "    }\n",
       "\n",
       "    .dataframe thead th {\n",
       "        text-align: right;\n",
       "    }\n",
       "</style>\n",
       "<table border=\"1\" class=\"dataframe\">\n",
       "  <thead>\n",
       "    <tr style=\"text-align: right;\">\n",
       "      <th></th>\n",
       "      <th>fixed acidity</th>\n",
       "      <th>volatile acidity</th>\n",
       "      <th>citric acid</th>\n",
       "      <th>residual sugar</th>\n",
       "      <th>chlorides</th>\n",
       "      <th>free sulfur dioxide</th>\n",
       "      <th>total sulfur dioxide</th>\n",
       "      <th>density</th>\n",
       "      <th>pH</th>\n",
       "      <th>sulphates</th>\n",
       "      <th>alcohol</th>\n",
       "      <th>quality</th>\n",
       "    </tr>\n",
       "  </thead>\n",
       "  <tbody>\n",
       "    <tr>\n",
       "      <th>0</th>\n",
       "      <td>7.4</td>\n",
       "      <td>0.700</td>\n",
       "      <td>0.00</td>\n",
       "      <td>1.9</td>\n",
       "      <td>0.076</td>\n",
       "      <td>11.0</td>\n",
       "      <td>34.0</td>\n",
       "      <td>0.99780</td>\n",
       "      <td>3.51</td>\n",
       "      <td>0.56</td>\n",
       "      <td>9.4</td>\n",
       "      <td>5</td>\n",
       "    </tr>\n",
       "    <tr>\n",
       "      <th>1</th>\n",
       "      <td>7.8</td>\n",
       "      <td>0.880</td>\n",
       "      <td>0.00</td>\n",
       "      <td>2.6</td>\n",
       "      <td>0.098</td>\n",
       "      <td>25.0</td>\n",
       "      <td>67.0</td>\n",
       "      <td>0.99680</td>\n",
       "      <td>3.20</td>\n",
       "      <td>0.68</td>\n",
       "      <td>9.8</td>\n",
       "      <td>5</td>\n",
       "    </tr>\n",
       "    <tr>\n",
       "      <th>2</th>\n",
       "      <td>7.8</td>\n",
       "      <td>0.760</td>\n",
       "      <td>0.04</td>\n",
       "      <td>2.3</td>\n",
       "      <td>0.092</td>\n",
       "      <td>15.0</td>\n",
       "      <td>54.0</td>\n",
       "      <td>0.99700</td>\n",
       "      <td>3.26</td>\n",
       "      <td>0.65</td>\n",
       "      <td>9.8</td>\n",
       "      <td>5</td>\n",
       "    </tr>\n",
       "    <tr>\n",
       "      <th>3</th>\n",
       "      <td>11.2</td>\n",
       "      <td>0.280</td>\n",
       "      <td>0.56</td>\n",
       "      <td>1.9</td>\n",
       "      <td>0.075</td>\n",
       "      <td>17.0</td>\n",
       "      <td>60.0</td>\n",
       "      <td>0.99800</td>\n",
       "      <td>3.16</td>\n",
       "      <td>0.58</td>\n",
       "      <td>9.8</td>\n",
       "      <td>6</td>\n",
       "    </tr>\n",
       "    <tr>\n",
       "      <th>4</th>\n",
       "      <td>7.4</td>\n",
       "      <td>0.700</td>\n",
       "      <td>0.00</td>\n",
       "      <td>1.9</td>\n",
       "      <td>0.076</td>\n",
       "      <td>11.0</td>\n",
       "      <td>34.0</td>\n",
       "      <td>0.99780</td>\n",
       "      <td>3.51</td>\n",
       "      <td>0.56</td>\n",
       "      <td>9.4</td>\n",
       "      <td>5</td>\n",
       "    </tr>\n",
       "    <tr>\n",
       "      <th>...</th>\n",
       "      <td>...</td>\n",
       "      <td>...</td>\n",
       "      <td>...</td>\n",
       "      <td>...</td>\n",
       "      <td>...</td>\n",
       "      <td>...</td>\n",
       "      <td>...</td>\n",
       "      <td>...</td>\n",
       "      <td>...</td>\n",
       "      <td>...</td>\n",
       "      <td>...</td>\n",
       "      <td>...</td>\n",
       "    </tr>\n",
       "    <tr>\n",
       "      <th>1594</th>\n",
       "      <td>6.2</td>\n",
       "      <td>0.600</td>\n",
       "      <td>0.08</td>\n",
       "      <td>2.0</td>\n",
       "      <td>0.090</td>\n",
       "      <td>32.0</td>\n",
       "      <td>44.0</td>\n",
       "      <td>0.99490</td>\n",
       "      <td>3.45</td>\n",
       "      <td>0.58</td>\n",
       "      <td>10.5</td>\n",
       "      <td>5</td>\n",
       "    </tr>\n",
       "    <tr>\n",
       "      <th>1595</th>\n",
       "      <td>5.9</td>\n",
       "      <td>0.550</td>\n",
       "      <td>0.10</td>\n",
       "      <td>2.2</td>\n",
       "      <td>0.062</td>\n",
       "      <td>39.0</td>\n",
       "      <td>51.0</td>\n",
       "      <td>0.99512</td>\n",
       "      <td>3.52</td>\n",
       "      <td>0.76</td>\n",
       "      <td>11.2</td>\n",
       "      <td>6</td>\n",
       "    </tr>\n",
       "    <tr>\n",
       "      <th>1596</th>\n",
       "      <td>6.3</td>\n",
       "      <td>0.510</td>\n",
       "      <td>0.13</td>\n",
       "      <td>2.3</td>\n",
       "      <td>0.076</td>\n",
       "      <td>29.0</td>\n",
       "      <td>40.0</td>\n",
       "      <td>0.99574</td>\n",
       "      <td>3.42</td>\n",
       "      <td>0.75</td>\n",
       "      <td>11.0</td>\n",
       "      <td>6</td>\n",
       "    </tr>\n",
       "    <tr>\n",
       "      <th>1597</th>\n",
       "      <td>5.9</td>\n",
       "      <td>0.645</td>\n",
       "      <td>0.12</td>\n",
       "      <td>2.0</td>\n",
       "      <td>0.075</td>\n",
       "      <td>32.0</td>\n",
       "      <td>44.0</td>\n",
       "      <td>0.99547</td>\n",
       "      <td>3.57</td>\n",
       "      <td>0.71</td>\n",
       "      <td>10.2</td>\n",
       "      <td>5</td>\n",
       "    </tr>\n",
       "    <tr>\n",
       "      <th>1598</th>\n",
       "      <td>6.0</td>\n",
       "      <td>0.310</td>\n",
       "      <td>0.47</td>\n",
       "      <td>3.6</td>\n",
       "      <td>0.067</td>\n",
       "      <td>18.0</td>\n",
       "      <td>42.0</td>\n",
       "      <td>0.99549</td>\n",
       "      <td>3.39</td>\n",
       "      <td>0.66</td>\n",
       "      <td>11.0</td>\n",
       "      <td>6</td>\n",
       "    </tr>\n",
       "  </tbody>\n",
       "</table>\n",
       "<p>1599 rows × 12 columns</p>\n",
       "</div>"
      ],
      "text/plain": [
       "      fixed acidity  volatile acidity  citric acid  residual sugar  chlorides  \\\n",
       "0               7.4             0.700         0.00             1.9      0.076   \n",
       "1               7.8             0.880         0.00             2.6      0.098   \n",
       "2               7.8             0.760         0.04             2.3      0.092   \n",
       "3              11.2             0.280         0.56             1.9      0.075   \n",
       "4               7.4             0.700         0.00             1.9      0.076   \n",
       "...             ...               ...          ...             ...        ...   \n",
       "1594            6.2             0.600         0.08             2.0      0.090   \n",
       "1595            5.9             0.550         0.10             2.2      0.062   \n",
       "1596            6.3             0.510         0.13             2.3      0.076   \n",
       "1597            5.9             0.645         0.12             2.0      0.075   \n",
       "1598            6.0             0.310         0.47             3.6      0.067   \n",
       "\n",
       "      free sulfur dioxide  total sulfur dioxide  density    pH  sulphates  \\\n",
       "0                    11.0                  34.0  0.99780  3.51       0.56   \n",
       "1                    25.0                  67.0  0.99680  3.20       0.68   \n",
       "2                    15.0                  54.0  0.99700  3.26       0.65   \n",
       "3                    17.0                  60.0  0.99800  3.16       0.58   \n",
       "4                    11.0                  34.0  0.99780  3.51       0.56   \n",
       "...                   ...                   ...      ...   ...        ...   \n",
       "1594                 32.0                  44.0  0.99490  3.45       0.58   \n",
       "1595                 39.0                  51.0  0.99512  3.52       0.76   \n",
       "1596                 29.0                  40.0  0.99574  3.42       0.75   \n",
       "1597                 32.0                  44.0  0.99547  3.57       0.71   \n",
       "1598                 18.0                  42.0  0.99549  3.39       0.66   \n",
       "\n",
       "      alcohol  quality  \n",
       "0         9.4        5  \n",
       "1         9.8        5  \n",
       "2         9.8        5  \n",
       "3         9.8        6  \n",
       "4         9.4        5  \n",
       "...       ...      ...  \n",
       "1594     10.5        5  \n",
       "1595     11.2        6  \n",
       "1596     11.0        6  \n",
       "1597     10.2        5  \n",
       "1598     11.0        6  \n",
       "\n",
       "[1599 rows x 12 columns]"
      ]
     },
     "execution_count": 7,
     "metadata": {},
     "output_type": "execute_result"
    }
   ],
   "source": [
    "df_csv = pd.read_csv('calidad_vinos.csv')\n",
    "df_csv"
   ]
  },
  {
   "cell_type": "code",
   "execution_count": 9,
   "id": "4fa3e766-eb22-44d4-a2c8-96ba518d3531",
   "metadata": {},
   "outputs": [
    {
     "data": {
      "text/html": [
       "<div>\n",
       "<style scoped>\n",
       "    .dataframe tbody tr th:only-of-type {\n",
       "        vertical-align: middle;\n",
       "    }\n",
       "\n",
       "    .dataframe tbody tr th {\n",
       "        vertical-align: top;\n",
       "    }\n",
       "\n",
       "    .dataframe thead th {\n",
       "        text-align: right;\n",
       "    }\n",
       "</style>\n",
       "<table border=\"1\" class=\"dataframe\">\n",
       "  <thead>\n",
       "    <tr style=\"text-align: right;\">\n",
       "      <th></th>\n",
       "      <th>count</th>\n",
       "      <th>mean</th>\n",
       "      <th>std</th>\n",
       "      <th>min</th>\n",
       "      <th>25%</th>\n",
       "      <th>50%</th>\n",
       "      <th>75%</th>\n",
       "      <th>max</th>\n",
       "    </tr>\n",
       "  </thead>\n",
       "  <tbody>\n",
       "    <tr>\n",
       "      <th>fixed acidity</th>\n",
       "      <td>1599.0</td>\n",
       "      <td>8.319637</td>\n",
       "      <td>1.741096</td>\n",
       "      <td>4.60000</td>\n",
       "      <td>7.1000</td>\n",
       "      <td>7.90000</td>\n",
       "      <td>9.200000</td>\n",
       "      <td>15.90000</td>\n",
       "    </tr>\n",
       "    <tr>\n",
       "      <th>volatile acidity</th>\n",
       "      <td>1599.0</td>\n",
       "      <td>0.527821</td>\n",
       "      <td>0.179060</td>\n",
       "      <td>0.12000</td>\n",
       "      <td>0.3900</td>\n",
       "      <td>0.52000</td>\n",
       "      <td>0.640000</td>\n",
       "      <td>1.58000</td>\n",
       "    </tr>\n",
       "    <tr>\n",
       "      <th>citric acid</th>\n",
       "      <td>1599.0</td>\n",
       "      <td>0.270976</td>\n",
       "      <td>0.194801</td>\n",
       "      <td>0.00000</td>\n",
       "      <td>0.0900</td>\n",
       "      <td>0.26000</td>\n",
       "      <td>0.420000</td>\n",
       "      <td>1.00000</td>\n",
       "    </tr>\n",
       "    <tr>\n",
       "      <th>residual sugar</th>\n",
       "      <td>1599.0</td>\n",
       "      <td>2.538806</td>\n",
       "      <td>1.409928</td>\n",
       "      <td>0.90000</td>\n",
       "      <td>1.9000</td>\n",
       "      <td>2.20000</td>\n",
       "      <td>2.600000</td>\n",
       "      <td>15.50000</td>\n",
       "    </tr>\n",
       "    <tr>\n",
       "      <th>chlorides</th>\n",
       "      <td>1599.0</td>\n",
       "      <td>0.087467</td>\n",
       "      <td>0.047065</td>\n",
       "      <td>0.01200</td>\n",
       "      <td>0.0700</td>\n",
       "      <td>0.07900</td>\n",
       "      <td>0.090000</td>\n",
       "      <td>0.61100</td>\n",
       "    </tr>\n",
       "    <tr>\n",
       "      <th>free sulfur dioxide</th>\n",
       "      <td>1599.0</td>\n",
       "      <td>15.874922</td>\n",
       "      <td>10.460157</td>\n",
       "      <td>1.00000</td>\n",
       "      <td>7.0000</td>\n",
       "      <td>14.00000</td>\n",
       "      <td>21.000000</td>\n",
       "      <td>72.00000</td>\n",
       "    </tr>\n",
       "    <tr>\n",
       "      <th>total sulfur dioxide</th>\n",
       "      <td>1599.0</td>\n",
       "      <td>46.467792</td>\n",
       "      <td>32.895324</td>\n",
       "      <td>6.00000</td>\n",
       "      <td>22.0000</td>\n",
       "      <td>38.00000</td>\n",
       "      <td>62.000000</td>\n",
       "      <td>289.00000</td>\n",
       "    </tr>\n",
       "    <tr>\n",
       "      <th>density</th>\n",
       "      <td>1599.0</td>\n",
       "      <td>0.996747</td>\n",
       "      <td>0.001887</td>\n",
       "      <td>0.99007</td>\n",
       "      <td>0.9956</td>\n",
       "      <td>0.99675</td>\n",
       "      <td>0.997835</td>\n",
       "      <td>1.00369</td>\n",
       "    </tr>\n",
       "    <tr>\n",
       "      <th>pH</th>\n",
       "      <td>1599.0</td>\n",
       "      <td>3.311113</td>\n",
       "      <td>0.154386</td>\n",
       "      <td>2.74000</td>\n",
       "      <td>3.2100</td>\n",
       "      <td>3.31000</td>\n",
       "      <td>3.400000</td>\n",
       "      <td>4.01000</td>\n",
       "    </tr>\n",
       "    <tr>\n",
       "      <th>sulphates</th>\n",
       "      <td>1599.0</td>\n",
       "      <td>0.658149</td>\n",
       "      <td>0.169507</td>\n",
       "      <td>0.33000</td>\n",
       "      <td>0.5500</td>\n",
       "      <td>0.62000</td>\n",
       "      <td>0.730000</td>\n",
       "      <td>2.00000</td>\n",
       "    </tr>\n",
       "    <tr>\n",
       "      <th>alcohol</th>\n",
       "      <td>1599.0</td>\n",
       "      <td>10.422983</td>\n",
       "      <td>1.065668</td>\n",
       "      <td>8.40000</td>\n",
       "      <td>9.5000</td>\n",
       "      <td>10.20000</td>\n",
       "      <td>11.100000</td>\n",
       "      <td>14.90000</td>\n",
       "    </tr>\n",
       "    <tr>\n",
       "      <th>quality</th>\n",
       "      <td>1599.0</td>\n",
       "      <td>5.636023</td>\n",
       "      <td>0.807569</td>\n",
       "      <td>3.00000</td>\n",
       "      <td>5.0000</td>\n",
       "      <td>6.00000</td>\n",
       "      <td>6.000000</td>\n",
       "      <td>8.00000</td>\n",
       "    </tr>\n",
       "  </tbody>\n",
       "</table>\n",
       "</div>"
      ],
      "text/plain": [
       "                       count       mean        std      min      25%  \\\n",
       "fixed acidity         1599.0   8.319637   1.741096  4.60000   7.1000   \n",
       "volatile acidity      1599.0   0.527821   0.179060  0.12000   0.3900   \n",
       "citric acid           1599.0   0.270976   0.194801  0.00000   0.0900   \n",
       "residual sugar        1599.0   2.538806   1.409928  0.90000   1.9000   \n",
       "chlorides             1599.0   0.087467   0.047065  0.01200   0.0700   \n",
       "free sulfur dioxide   1599.0  15.874922  10.460157  1.00000   7.0000   \n",
       "total sulfur dioxide  1599.0  46.467792  32.895324  6.00000  22.0000   \n",
       "density               1599.0   0.996747   0.001887  0.99007   0.9956   \n",
       "pH                    1599.0   3.311113   0.154386  2.74000   3.2100   \n",
       "sulphates             1599.0   0.658149   0.169507  0.33000   0.5500   \n",
       "alcohol               1599.0  10.422983   1.065668  8.40000   9.5000   \n",
       "quality               1599.0   5.636023   0.807569  3.00000   5.0000   \n",
       "\n",
       "                           50%        75%        max  \n",
       "fixed acidity          7.90000   9.200000   15.90000  \n",
       "volatile acidity       0.52000   0.640000    1.58000  \n",
       "citric acid            0.26000   0.420000    1.00000  \n",
       "residual sugar         2.20000   2.600000   15.50000  \n",
       "chlorides              0.07900   0.090000    0.61100  \n",
       "free sulfur dioxide   14.00000  21.000000   72.00000  \n",
       "total sulfur dioxide  38.00000  62.000000  289.00000  \n",
       "density                0.99675   0.997835    1.00369  \n",
       "pH                     3.31000   3.400000    4.01000  \n",
       "sulphates              0.62000   0.730000    2.00000  \n",
       "alcohol               10.20000  11.100000   14.90000  \n",
       "quality                6.00000   6.000000    8.00000  "
      ]
     },
     "execution_count": 9,
     "metadata": {},
     "output_type": "execute_result"
    }
   ],
   "source": [
    "df_csv.describe().transpose()"
   ]
  },
  {
   "cell_type": "markdown",
   "id": "986018e6-4ead-491e-870e-3b7690b0b38e",
   "metadata": {},
   "source": [
    "Vamos a calcular el Coeficiente de Variación (varianza/media) para cada variable y así poder analizar la dispersión sin necesidad de interpretar las unidades. La variable con mayor Coeficiente de Variación será la más dispersa y la que tenga menor la más concentrada respecto de la media."
   ]
  },
  {
   "cell_type": "code",
   "execution_count": 12,
   "id": "3b740de4-b3e7-49f4-a461-217079874261",
   "metadata": {},
   "outputs": [
    {
     "data": {
      "text/plain": [
       "citric acid             0.718888\n",
       "total sulfur dioxide    0.707917\n",
       "free sulfur dioxide     0.658911\n",
       "residual sugar          0.555351\n",
       "chlorides               0.538095\n",
       "volatile acidity        0.339244\n",
       "sulphates               0.257551\n",
       "fixed acidity           0.209276\n",
       "quality                 0.143287\n",
       "alcohol                 0.102242\n",
       "pH                      0.046627\n",
       "density                 0.001893\n",
       "dtype: float64"
      ]
     },
     "execution_count": 12,
     "metadata": {},
     "output_type": "execute_result"
    }
   ],
   "source": [
    "cv = df_csv.std() / df_csv.mean()\n",
    "cv.sort_values(ascending=False)"
   ]
  },
  {
   "cell_type": "markdown",
   "id": "ca8a7881-6ff9-4ac4-9a98-463649a8a0cc",
   "metadata": {},
   "source": [
    "Como podemos observar, la variable con mayor Coeficiente de Variación es citric acid y la menor es density. Como explicamos anteriormente, esto significa que la variable citric acid toma valores mucho más acusados respecto a la media mientras que la densidad toma valores mucho más concentrados en torno a la media. Esto hace que la media de la densidad sea mucho más respresentativa comparado con la del citric acid, ya que la media se ve muy afectada por la presencia de valores extremos."
   ]
  },
  {
   "cell_type": "markdown",
   "id": "98ef075d-e770-40cf-b7ce-a57ac5f6b075",
   "metadata": {},
   "source": [
    "Las variables con valores extremos, como citric acid, pueden provocar problemas de convergencia en el entrenamiento de la red neuronal, puesto que al calcular el error en cada paso de entrenamiento mediante el descenso por gradiente, ya que que el gradiente es muy fuerte para esa variable, y el MLP acaba dando demasiada importancia a ella. Asimismo, de nuevo debido al gradiente, valores muy extremos pueden hacer que el modelo tarde más en converger o diverja durante el entrenamiento, y por otro lado, las diferencias de escala entre variables pueden hacer que el MLP tenga que esforzarse en \"nivelar\" la importancia de cada entrada. Para solucionar esto podemos normalizar o estandarizar la variable, con métodos como el StandardScaler o MinMaxScaler.\n",
    "Por otro lado, en cuanto a las variables con poca variabilidad, como todas están muy próximas a la media, estas no aportan demasiada información, por lo que el MLP podría llegar a aprender a ignorarlo. Además, estas varibles podrían llegar a considerarse como \"ruido\", o generar redundancia si están correlacionadas con otras variables. Esto puede hacer que haya colinealidad, y el modelo no sea capaz de distinguir bien el efecto de cada variable, y en algunos casos, esto puede dificultar el aprendizaje y la interpretación. Una vez detallado esto, es preciso recalcar que podemos o bien dejar estas variables que aportan poca información o bien eliminarlas. Ahora bien, deberíamos dejarlas si están correlacionada significativamente con la variable objetivo o bien aportan algo al modelo, mientras que deberíamos eliminarlas si tienen muy baja varianza, no muestra correlación con quality o bien generan ruido o ralentiza el entrenamiento."
   ]
  },
  {
   "cell_type": "markdown",
   "id": "fd05edb1-a5f0-47fb-8aed-9c2b81d60712",
   "metadata": {},
   "source": [
    "Procedemos ahora a analizar la distribución de la variable de la calidad del vino, viendo los datos sobre varianza, media etc. "
   ]
  },
  {
   "cell_type": "code",
   "execution_count": 17,
   "id": "958f9425-6038-42ee-8109-5ebc1332220c",
   "metadata": {},
   "outputs": [
    {
     "data": {
      "image/png": "[encoded data removed]",
      "text/plain": [
       "<Figure size 640x480 with 1 Axes>"
      ]
     },
     "metadata": {},
     "output_type": "display_data"
    }
   ],
   "source": [
    "import seaborn as sns\n",
    "import matplotlib.pyplot as plt\n",
    "\n",
    "sns.countplot(x='quality', data=df_csv)\n",
    "plt.title('Distribución de la calidad del vino')\n",
    "plt.xlabel('Calidad del vino')\n",
    "plt.ylabel('Frecuencia')\n",
    "plt.show()"
   ]
  },
  {
   "cell_type": "markdown",
   "id": "f04dc875-dd58-4c9e-9139-72b9dfbb08ed",
   "metadata": {},
   "source": [
    "Como podemos observar en el histograma, la mayoría de los vinos tienen una calidad de 5 o 6, por lo que la gran mayoría de vinos se sitúan en torno a la media. Esto concuerda con nuestro coeficiente de variación calculado anteriormente, donde veíamos que la calidad tenía un coeficiente de  0.143287, lo cual indica que la mayoría de los datos se sitúan en torno a la media.\n",
    "Además, si observamos la tabla con los estadísticos, vemos que la media de la calidad se sitúa en torno al 5.6, y que la variación es relativamente baja, situándose en torno a 0.80.\n",
    "Esto evidencia de nuevo una media muy representativa de los vinos en cuanto a la calidad y que se trata de vinos con una calidad media, pues recordemos que la calidad del vino se mide sobre 10.\n",
    "En conclusión, la calidad del vino tiene una distribución concentrada en torno a 5 y 6, con pocas observaciones en extremos (3, 4, 7, 8), lo cual puede afectar al rendimiento de modelos clasificadores si no se compensa el desbalance.\n",
    "En regresión, el modelo tenderá a predecir valores cercanos a la media, a menos que los extremos estén bien representados"
   ]
  },
  {
   "cell_type": "markdown",
   "id": "upper-subject",
   "metadata": {
    "id": "upper-subject"
   },
   "source": [
    "## 2) Selección de variables\n",
    "\n",
    "Calcula los coeficientes de correlación de Pearson entre la variable de salida y el resto de variables. Crea un nuevo dataframe que contenga la calidad del vino y, selecciona las variables que estén más correlacionadas con él (estableciendo para ello un valor umbral que consideres adecuado)."
   ]
  },
  {
   "cell_type": "markdown",
   "id": "e5d36502-cd6c-4d24-ad12-c083e174ff45",
   "metadata": {
    "executionInfo": {
     "elapsed": 9,
     "status": "ok",
     "timestamp": 1741864767087,
     "user": {
      "displayName": "Ruben Fuentes-Fernandez",
      "userId": "00594856101550945388"
     },
     "user_tz": -60
    },
    "id": "framed-tunnel"
   },
   "source": [
    "Calculamos en primer lugar los coeficientes de correlación entre la variable de salida y el resto de variables."
   ]
  },
  {
   "cell_type": "code",
   "execution_count": 22,
   "id": "a91fe6b7-da85-48e7-ac1f-1cb905e096dc",
   "metadata": {},
   "outputs": [
    {
     "data": {
      "text/plain": [
       "fixed acidity           0.124052\n",
       "volatile acidity       -0.390558\n",
       "citric acid             0.226373\n",
       "residual sugar          0.013732\n",
       "chlorides              -0.128907\n",
       "free sulfur dioxide    -0.050656\n",
       "total sulfur dioxide   -0.185100\n",
       "density                -0.174919\n",
       "pH                     -0.057731\n",
       "sulphates               0.251397\n",
       "alcohol                 0.476166\n",
       "Name: quality, dtype: float64"
      ]
     },
     "execution_count": 22,
     "metadata": {},
     "output_type": "execute_result"
    }
   ],
   "source": [
    "correlation = df_csv.corr(method='pearson')\n",
    "cor_with_quality = correlation['quality'].drop('quality')\n",
    "cor_with_quality"
   ]
  },
  {
   "cell_type": "markdown",
   "id": "7b03f97a-ce0f-4d72-8ea6-7826dfbbf8c4",
   "metadata": {},
   "source": [
    "Como podemos observar las variables con mayor correlación con la calidad son, de manera positiva el alcohol (que es la que más correlación tiene con un índice de Pearson de 0.48),  los sulfatos (con una correlación de 0.25) y el ácido cítrico (con una correlación de 0.22),  por lo que a mayor valor de estas variables mayor es la calidad del vino. Por otro lado las variables con mayor correlación negativa con la calidad son la acidad volátil (siendo la variable con mayor correlación negativa con respecto a la calidad, con un índice de Pearson de -0.40), el índice de dióxido de sufuro total ( con un índice de -0.18) y la densidad (con un índice de -0.17), por lo cual a mayor valor de estas variables menor calidad del vino.\n",
    "Vamos a establecer el umbral de correlación a >= 0.15 en valor absoluto, y procederemos a crear un nuevo dataframe con la calidad del vino y estas variables que son las más correlacionadas con él."
   ]
  },
  {
   "cell_type": "code",
   "execution_count": 25,
   "id": "77c8659a-cdd8-4297-ac59-faad3440070b",
   "metadata": {},
   "outputs": [
    {
     "name": "stdout",
     "output_type": "stream",
     "text": [
      "                      correlation  abs_correlation\n",
      "alcohol                  0.476166         0.476166\n",
      "volatile acidity        -0.390558         0.390558\n",
      "sulphates                0.251397         0.251397\n",
      "citric acid              0.226373         0.226373\n",
      "total sulfur dioxide    -0.185100         0.185100\n",
      "density                 -0.174919         0.174919\n"
     ]
    }
   ],
   "source": [
    "cor_df = cor_with_quality.to_frame(name='correlation')\n",
    "cor_df['abs_correlation'] = cor_df['correlation'].abs()\n",
    "\n",
    "# Filtra variables con correlación absoluta mayor o igual a 0.1\n",
    "selected = cor_df[cor_df['abs_correlation'] >= 0.15].sort_values(by='abs_correlation', ascending=False)\n",
    "\n",
    "print(selected)"
   ]
  },
  {
   "cell_type": "markdown",
   "id": "b26e2b1d-af98-44e1-864f-9c0f6d7b1ec0",
   "metadata": {},
   "source": [
    "En conclusión, podemos observar de nuevo en esta tabla las variables más correlacionadas con las de salida, que es la calidad del vino, y su correlación con la misma."
   ]
  },
  {
   "cell_type": "markdown",
   "id": "brilliant-world",
   "metadata": {
    "id": "brilliant-world"
   },
   "source": [
    "## 3) Normalización\n",
    "\n",
    "Decide si debes o no normalizar los datos de entrada y/o de salida. En caso afirmativo elige razonadamente entre escalarlos o estandarizarlos.\n"
   ]
  },
  {
   "cell_type": "markdown",
   "id": "1b84d6ea-8bb5-4db0-b17a-25b7a2283e41",
   "metadata": {
    "executionInfo": {
     "elapsed": 7,
     "status": "ok",
     "timestamp": 1741864767087,
     "user": {
      "displayName": "Ruben Fuentes-Fernandez",
      "userId": "00594856101550945388"
     },
     "user_tz": -60
    },
    "id": "duplicate-asset"
   },
   "source": [
    "En primer lugar, cabe destacar que los datos de entrada deben normalizarse o estandarizarse casi siempre en redes neuronales pues las entradas llegan directamente a las funciones de activación y si las variables están en distintas escalas, los pesos del modelo se desbalancean, pudiendo ralentizar o incluso bloquear el aprendizaje\n",
    "Además, nuestros datos toman escalas muy distintas, como podemos ver por ejemplo comparando la densidad, que toma valores de como máximo 1 (en sus unidades de medida) mientras que por ejemplo el total sulfur dioxide puede tomar valores de hasta 289.\n",
    "Por ello, hemos decidido estandarizar, primero porque los datos toman escalas muy diferentes, y por otra parte porque para redes neuronales tiene ventajas como que funciona bien con datos distribuidos de forma más o menos normal y que es ideal para algoritmos que dependen de gradientes, como es el caso de las redes neuronales multicapa.\n",
    "Así, procedemos ha hacer la estadarización de las variables seleccionadas en el punto 2."
   ]
  },
  {
   "cell_type": "code",
   "execution_count": 30,
   "id": "aabf3923-fbaa-4379-b45f-bafb6d002b3b",
   "metadata": {},
   "outputs": [],
   "source": [
    "selected_features = [\n",
    "    'alcohol',\n",
    "    'sulphates',\n",
    "    'citric acid',\n",
    "    'volatile acidity',\n",
    "    'total sulfur dioxide',\n",
    "    'density'\n",
    "]"
   ]
  },
  {
   "cell_type": "code",
   "execution_count": 32,
   "id": "4eaead87-e4ea-4937-ab4f-164605aaade0",
   "metadata": {},
   "outputs": [],
   "source": [
    "from sklearn.preprocessing import StandardScaler\n",
    "\n",
    "# Selección de las variables que sí queremos normalizar\n",
    "X = df_csv[selected_features]\n",
    "\n",
    "# Estandarización\n",
    "scaler = StandardScaler()\n",
    "X_scaled = scaler.fit_transform(X)"
   ]
  },
  {
   "cell_type": "code",
   "execution_count": 34,
   "id": "60e935e5-a649-424e-b56f-88b330afd3e0",
   "metadata": {},
   "outputs": [
    {
     "data": {
      "text/html": [
       "<div>\n",
       "<style scoped>\n",
       "    .dataframe tbody tr th:only-of-type {\n",
       "        vertical-align: middle;\n",
       "    }\n",
       "\n",
       "    .dataframe tbody tr th {\n",
       "        vertical-align: top;\n",
       "    }\n",
       "\n",
       "    .dataframe thead th {\n",
       "        text-align: right;\n",
       "    }\n",
       "</style>\n",
       "<table border=\"1\" class=\"dataframe\">\n",
       "  <thead>\n",
       "    <tr style=\"text-align: right;\">\n",
       "      <th></th>\n",
       "      <th>alcohol</th>\n",
       "      <th>sulphates</th>\n",
       "      <th>citric acid</th>\n",
       "      <th>volatile acidity</th>\n",
       "      <th>total sulfur dioxide</th>\n",
       "      <th>density</th>\n",
       "    </tr>\n",
       "  </thead>\n",
       "  <tbody>\n",
       "    <tr>\n",
       "      <th>0</th>\n",
       "      <td>-0.960246</td>\n",
       "      <td>-0.579207</td>\n",
       "      <td>-1.391472</td>\n",
       "      <td>0.961877</td>\n",
       "      <td>-0.379133</td>\n",
       "      <td>0.558274</td>\n",
       "    </tr>\n",
       "    <tr>\n",
       "      <th>1</th>\n",
       "      <td>-0.584777</td>\n",
       "      <td>0.128950</td>\n",
       "      <td>-1.391472</td>\n",
       "      <td>1.967442</td>\n",
       "      <td>0.624363</td>\n",
       "      <td>0.028261</td>\n",
       "    </tr>\n",
       "    <tr>\n",
       "      <th>2</th>\n",
       "      <td>-0.584777</td>\n",
       "      <td>-0.048089</td>\n",
       "      <td>-1.186070</td>\n",
       "      <td>1.297065</td>\n",
       "      <td>0.229047</td>\n",
       "      <td>0.134264</td>\n",
       "    </tr>\n",
       "    <tr>\n",
       "      <th>3</th>\n",
       "      <td>-0.584777</td>\n",
       "      <td>-0.461180</td>\n",
       "      <td>1.484154</td>\n",
       "      <td>-1.384443</td>\n",
       "      <td>0.411500</td>\n",
       "      <td>0.664277</td>\n",
       "    </tr>\n",
       "    <tr>\n",
       "      <th>4</th>\n",
       "      <td>-0.960246</td>\n",
       "      <td>-0.579207</td>\n",
       "      <td>-1.391472</td>\n",
       "      <td>0.961877</td>\n",
       "      <td>-0.379133</td>\n",
       "      <td>0.558274</td>\n",
       "    </tr>\n",
       "    <tr>\n",
       "      <th>...</th>\n",
       "      <td>...</td>\n",
       "      <td>...</td>\n",
       "      <td>...</td>\n",
       "      <td>...</td>\n",
       "      <td>...</td>\n",
       "      <td>...</td>\n",
       "    </tr>\n",
       "    <tr>\n",
       "      <th>1594</th>\n",
       "      <td>0.072294</td>\n",
       "      <td>-0.461180</td>\n",
       "      <td>-0.980669</td>\n",
       "      <td>0.403229</td>\n",
       "      <td>-0.075043</td>\n",
       "      <td>-0.978765</td>\n",
       "    </tr>\n",
       "    <tr>\n",
       "      <th>1595</th>\n",
       "      <td>0.729364</td>\n",
       "      <td>0.601055</td>\n",
       "      <td>-0.877968</td>\n",
       "      <td>0.123905</td>\n",
       "      <td>0.137820</td>\n",
       "      <td>-0.862162</td>\n",
       "    </tr>\n",
       "    <tr>\n",
       "      <th>1596</th>\n",
       "      <td>0.541630</td>\n",
       "      <td>0.542042</td>\n",
       "      <td>-0.723916</td>\n",
       "      <td>-0.099554</td>\n",
       "      <td>-0.196679</td>\n",
       "      <td>-0.533554</td>\n",
       "    </tr>\n",
       "    <tr>\n",
       "      <th>1597</th>\n",
       "      <td>-0.209308</td>\n",
       "      <td>0.305990</td>\n",
       "      <td>-0.775267</td>\n",
       "      <td>0.654620</td>\n",
       "      <td>-0.075043</td>\n",
       "      <td>-0.676657</td>\n",
       "    </tr>\n",
       "    <tr>\n",
       "      <th>1598</th>\n",
       "      <td>0.541630</td>\n",
       "      <td>0.010924</td>\n",
       "      <td>1.021999</td>\n",
       "      <td>-1.216849</td>\n",
       "      <td>-0.135861</td>\n",
       "      <td>-0.666057</td>\n",
       "    </tr>\n",
       "  </tbody>\n",
       "</table>\n",
       "<p>1599 rows × 6 columns</p>\n",
       "</div>"
      ],
      "text/plain": [
       "       alcohol  sulphates  citric acid  volatile acidity  \\\n",
       "0    -0.960246  -0.579207    -1.391472          0.961877   \n",
       "1    -0.584777   0.128950    -1.391472          1.967442   \n",
       "2    -0.584777  -0.048089    -1.186070          1.297065   \n",
       "3    -0.584777  -0.461180     1.484154         -1.384443   \n",
       "4    -0.960246  -0.579207    -1.391472          0.961877   \n",
       "...        ...        ...          ...               ...   \n",
       "1594  0.072294  -0.461180    -0.980669          0.403229   \n",
       "1595  0.729364   0.601055    -0.877968          0.123905   \n",
       "1596  0.541630   0.542042    -0.723916         -0.099554   \n",
       "1597 -0.209308   0.305990    -0.775267          0.654620   \n",
       "1598  0.541630   0.010924     1.021999         -1.216849   \n",
       "\n",
       "      total sulfur dioxide   density  \n",
       "0                -0.379133  0.558274  \n",
       "1                 0.624363  0.028261  \n",
       "2                 0.229047  0.134264  \n",
       "3                 0.411500  0.664277  \n",
       "4                -0.379133  0.558274  \n",
       "...                    ...       ...  \n",
       "1594             -0.075043 -0.978765  \n",
       "1595              0.137820 -0.862162  \n",
       "1596             -0.196679 -0.533554  \n",
       "1597             -0.075043 -0.676657  \n",
       "1598             -0.135861 -0.666057  \n",
       "\n",
       "[1599 rows x 6 columns]"
      ]
     },
     "execution_count": 34,
     "metadata": {},
     "output_type": "execute_result"
    }
   ],
   "source": [
    "X_scaled_df = pd.DataFrame(X_scaled, columns=selected_features)\n",
    "X_scaled_df"
   ]
  },
  {
   "cell_type": "markdown",
   "id": "62186461",
   "metadata": {
    "id": "62186461"
   },
   "source": [
    "## 4) Primer modelo: kNN\n",
    "\n",
    "Antes de pasar a crear las redes neuronales, vamos crear unos primeros modelos más sencillos para comparar. Para ello:\n",
    "\n",
    "- Crea varios modelos kNN con distintos valores de k (de 2 a 20 vecinos)\n",
    "- Calcula el MSE de cada uno de ellos, utilizando validación cruzada, para elegir el mejor valor de k\n",
    "\n",
    "Para elegirlo, pinta el gráfico de MSE para los distintos valores de k."
   ]
  },
  {
   "cell_type": "code",
   "execution_count": 142,
   "id": "7ca23377",
   "metadata": {
    "executionInfo": {
     "elapsed": 6,
     "status": "ok",
     "timestamp": 1741864767087,
     "user": {
      "displayName": "Ruben Fuentes-Fernandez",
      "userId": "00594856101550945388"
     },
     "user_tz": -60
    },
    "id": "7ca23377"
   },
   "outputs": [
    {
     "data": {
      "image/png": "[encoded data removed]",
      "text/plain": [
       "<Figure size 1000x500 with 1 Axes>"
      ]
     },
     "metadata": {},
     "output_type": "display_data"
    },
    {
     "data": {
      "image/png": "[encoded data removed]",
      "text/plain": [
       "<Figure size 1000x500 with 1 Axes>"
      ]
     },
     "metadata": {},
     "output_type": "display_data"
    },
    {
     "name": "stdout",
     "output_type": "stream",
     "text": [
      "El mejor valor de k es 20 para el MSE (0.4454) y para el MAE es 20 (0.5238)\n"
     ]
    }
   ],
   "source": [
    "from sklearn.neighbors import KNeighborsRegressor\n",
    "from sklearn.model_selection import cross_val_score\n",
    "import numpy as np\n",
    "import matplotlib.pyplot as plt\n",
    "\n",
    "# Variable objetivo (cambia 'target' por el nombre correcto de tu variable objetivo)\n",
    "y = df_csv['quality']  #guardamos la columna que es la variable objetivo \n",
    "\n",
    "mse_scores = []\n",
    "mae_scores = []\n",
    "k_values = range(2, 21)\n",
    "#cv = KFold(n_splits=5, shuffle=True, random_state=42)\n",
    "\n",
    "for k in k_values:\n",
    "    knn = KNeighborsRegressor(n_neighbors=k)\n",
    "    # cross_val_score devuelve puntuaciones negativas del MSE, así que se multiplica por -1\n",
    "    mse = -cross_val_score(knn, X_scaled_df, y, scoring='neg_mean_squared_error', cv=10).mean()\n",
    "    mae = -cross_val_score(knn, X_scaled_df, y, scoring='neg_mean_absolute_error', cv=10).mean()\n",
    "    mse_scores.append(mse)\n",
    "    mae_scores.append(mae)\n",
    "\n",
    "# Gráfico\n",
    "plt.figure(figsize=(10, 5))\n",
    "plt.plot(k_values, mse_scores, marker='o')\n",
    "plt.title('MSE en función de k (nº de vecinos)')\n",
    "plt.xlabel('Número de vecinos (k)')\n",
    "plt.ylabel('Error cuadrático medio (MSE)')\n",
    "plt.xticks(k_values)\n",
    "plt.grid(True)\n",
    "plt.show()\n",
    "\n",
    "plt.figure(figsize=(10, 5))\n",
    "plt.plot(k_values, mae_scores, marker='o')\n",
    "plt.title('MAE en función de k (nº de vecinos)')\n",
    "plt.xlabel('Número de vecinos (k)')\n",
    "plt.ylabel('Error absoluto medio (MAE)')\n",
    "plt.xticks(k_values)\n",
    "plt.grid(True)\n",
    "plt.show()\n",
    "\n",
    "# Mejor valor de k\n",
    "best_k_mse = k_values[np.argmin(mse_scores)]\n",
    "best_k_mae = k_values[np.argmin(mae_scores)]\n",
    "print(f\"El mejor valor de k es {best_k_mse} para el MSE ({min(mse_scores):.4f}) y para el MAE es {best_k_mae} ({min(mae_scores):.4f})\")\n"
   ]
  },
  {
   "cell_type": "markdown",
   "id": "4dfe5163-d9b4-4ca7-9717-d6c228bef459",
   "metadata": {},
   "source": [
    "Podemos observar claramente que el mejor valor de k es 20 con un error cuadrático medio de 0.4454 y un error absoluto medio de 0.5238 (el mínimo en ambos casos). Además, cabe destacar que hemos usado el entrenamiento de KNN con la k variando de 2 a 20 y hemos usado validación cruzada con 10 partes.\n",
    "Hemos recopilado los datos de cada uno de los entrenamientos usando un bucle for, y posteriormente hemos graficado los resultados como se ve en el diagrama de arriba extrayendo el valor de k con menor MSE."
   ]
  },
  {
   "cell_type": "markdown",
   "id": "political-french",
   "metadata": {
    "id": "political-french"
   },
   "source": [
    "## 5) Redes neuronales: Entrenamiento y selección\n",
    "\n",
    "Crea dos redes neuronales de tipo Perceptrón Multicapa:\n",
    "- La primera con una capa oculta de 250 neuronas\n",
    "- La segunda con varias capas ocultas entre las que debes distribuir 250 neuronas, como te parezca\n",
    "\n",
    "Asegúrate de que no salen warnings durante el entrenamiento indicando que no se ha alcanzado la convergencia durante el entrenamiento (para arreglarlo basta con poner un número de max_iter suficientemente grande).\n",
    "\n",
    "En la configuración del perceptrón debes usar validación cruzada y explorar varios valores para el parámetro `alpha` que controla el coeficiente de regularización L2.\n",
    "\n",
    "Para elegir el valor adecuado de dicho coeficiente pinta la curva de aprendizaje para cada perceptrón. En la curva debes pintar una línea que represente el error medio de las distintas particiones de validación y un área sombreada que represente la desviación típica.\n",
    "\n",
    "Una vez tengas la curva de aprendizaje:\n",
    "  - Identifica las diferencias de comportamiento entre ambos perceptrones, razona o especula sobre por qué se dan. ¿Hay alguno que domine al otro? ¿Es el comportamiento de uno más volátil que el del otro?\n",
    "  - Determina de manera razonada con qué perceptrón te quedas y el valor óptimo del parámetro de regularización."
   ]
  },
  {
   "cell_type": "code",
   "execution_count": 41,
   "id": "f9214d83-35d6-4118-bb45-c4b92668c717",
   "metadata": {},
   "outputs": [],
   "source": [
    "RANDOM_STATE=333"
   ]
  },
  {
   "cell_type": "code",
   "execution_count": 43,
   "id": "uz7izIEe_2Na",
   "metadata": {
    "executionInfo": {
     "elapsed": 5,
     "status": "ok",
     "timestamp": 1741864767087,
     "user": {
      "displayName": "Ruben Fuentes-Fernandez",
      "userId": "00594856101550945388"
     },
     "user_tz": -60
    },
    "id": "uz7izIEe_2Na"
   },
   "outputs": [],
   "source": [
    "from sklearn.neural_network import MLPRegressor\n",
    "from sklearn.model_selection import cross_val_score, KFold\n",
    "import numpy as np\n",
    "import matplotlib.pyplot as plt\n",
    "\n",
    "# Lista de valores alpha a probar, en este caso probamos de 1e^-5 hasta 1e^10\n",
    "alphas = np.arange(0.1, 2.1, step=0.2) #np.logspace(-5, 1, 20)  # De 1e-5 a 20\n",
    "#regul_param_range = np.arange(0.1, 2.1, step=0.2) # [0.5, 0.75,  ..., 2]\n",
    "\n",
    "# Variable objetivo\n",
    "y = df_csv['quality']  # Guardamos la variable objetivo en y"
   ]
  },
  {
   "cell_type": "markdown",
   "id": "56360fe6-df76-405f-bb2a-3e4935e6b187",
   "metadata": {},
   "source": [
    "Creamos en primer lugar la primera de las redes neuronales como se nos indica, con una capa oculta de 250 neuronas. Además, vamos recorriendo los valores de alpha para ir avanzando en el entrenamiento e ir calculando el error cuadrático medio mediante validación cruzada con 10 partes."
   ]
  },
  {
   "cell_type": "code",
   "execution_count": 46,
   "id": "8162ca0f-4d5b-49b8-9683-32ec3ae137bb",
   "metadata": {},
   "outputs": [],
   "source": [
    "from sklearn.model_selection import cross_val_score\n",
    "from sklearn.neural_network import MLPRegressor"
   ]
  },
  {
   "cell_type": "code",
   "execution_count": 48,
   "id": "0fa3448c-7d0d-468c-8a8c-6c31afdc3a3b",
   "metadata": {
    "scrolled": true
   },
   "outputs": [],
   "source": [
    "mse_means_1 = []\n",
    "mse_stds_1 = []\n",
    "\n",
    "for alpha in alphas:\n",
    "    mlp_1 = MLPRegressor(hidden_layer_sizes=(250,), alpha=alpha, max_iter=5000, random_state=RANDOM_STATE)\n",
    "    scores = -cross_val_score(mlp_1, X_scaled_df, y, scoring='neg_mean_squared_error', cv=10)\n",
    "    mse_means_1.append(np.mean(scores))\n",
    "    mse_stds_1.append(np.std(scores))"
   ]
  },
  {
   "cell_type": "markdown",
   "id": "e7f9a1fe-74b1-4989-bf0a-bfc581486964",
   "metadata": {},
   "source": [
    "Procedemos ahora a graficar una línea que represente el error medio de las distintas particiones de validación y un área sombreada que represente la desviación típica. Es decir procedemos con los datos obtenidos para el entrenamiento del modelo, a graficar la curva de aprendizaje."
   ]
  },
  {
   "cell_type": "code",
   "execution_count": 51,
   "id": "3c502a63-ff3c-4a9e-82bf-4b9b45543a64",
   "metadata": {},
   "outputs": [
    {
     "data": {
      "image/png": "[encoded data removed]",
      "text/plain": [
       "<Figure size 1000x500 with 1 Axes>"
      ]
     },
     "metadata": {},
     "output_type": "display_data"
    }
   ],
   "source": [
    "plt.figure(figsize=(10, 5))\n",
    "plt.plot(alphas, mse_means_1, marker='o', label='MLP (1 capa, 250)')\n",
    "plt.fill_between(alphas,\n",
    "                 np.array(mse_means_1) - np.array(mse_stds_1),\n",
    "                 np.array(mse_means_1) + np.array(mse_stds_1),\n",
    "                 alpha=0.3)\n",
    "\n",
    "\n",
    "plt.xlabel('Alpha (Regularización L2)')\n",
    "plt.ylabel('Error cuadrático medio (MSE)')\n",
    "plt.title('Curva de aprendizaje - MLP con 1 capa oculta')\n",
    "plt.grid(True)\n",
    "plt.legend()\n",
    "plt.show()\n"
   ]
  },
  {
   "cell_type": "markdown",
   "id": "44b0a92d-6c97-45f6-a5d0-d4701573ba64",
   "metadata": {},
   "source": [
    "Procedemos ahora a entrenar a otra red neuronal con 250 neuronas, pero esta vez distribuidas de manera diferente. Así, vamos a probar un modelo con dos capas ocultas de 100 neuronas y otra oculta  de 50."
   ]
  },
  {
   "cell_type": "code",
   "execution_count": 54,
   "id": "9faf7338-41ed-4138-b93f-8ba0898fd62e",
   "metadata": {},
   "outputs": [],
   "source": [
    "mse_means_1 = []\n",
    "mse_stds_1 = []\n",
    "\n",
    "for alpha in alphas:\n",
    "    mlp_1 = MLPRegressor(hidden_layer_sizes=(100,100,50), alpha=alpha, max_iter=5000, random_state=RANDOM_STATE)\n",
    "    scores = -cross_val_score(mlp_1, X_scaled_df, y, scoring='neg_mean_squared_error', cv=20)\n",
    "    mse_means_1.append(np.mean(scores))\n",
    "    mse_stds_1.append(np.std(scores))"
   ]
  },
  {
   "cell_type": "code",
   "execution_count": 58,
   "id": "d26803ed-77dd-485f-a347-f088000eb5b2",
   "metadata": {},
   "outputs": [
    {
     "data": {
      "image/png": "[encoded data removed]",
      "text/plain": [
       "<Figure size 1000x500 with 1 Axes>"
      ]
     },
     "metadata": {},
     "output_type": "display_data"
    }
   ],
   "source": [
    "plt.figure(figsize=(10, 5))\n",
    "plt.plot(alphas, mse_means_1, marker='o', label='MLP (3 capas, 100, 100, 50)')\n",
    "plt.fill_between(alphas,\n",
    "                 np.array(mse_means_1) - np.array(mse_stds_1),\n",
    "                 np.array(mse_means_1) + np.array(mse_stds_1),\n",
    "                 alpha=0.3)\n",
    "\n",
    "\n",
    "plt.xlabel('Alpha (Regularización L2)')\n",
    "plt.ylabel('Error cuadrático medio (MSE)')\n",
    "plt.title('Curva de aprendizaje - MLP con varias capas ocultas')\n",
    "plt.grid(True)\n",
    "plt.legend()\n",
    "plt.show()"
   ]
  },
  {
   "cell_type": "markdown",
   "id": "00a6805a-4325-4921-be26-2acd5ae5bf6d",
   "metadata": {},
   "source": [
    "Comentarios (Hay que terminarlo):\n",
    "\n",
    "__Curva 1 (MLP con 1 capa oculta (250 neuronas))__\n",
    "- Vemos que el MSE disminuye muy ligeramente a medida que aumenta alpha, presentándose el mayor cambio en los primeros alphas, luego comienza a estabilizarse alrededor de alpha  ≈ 1.25 con un MSE cercano a 0.44.\n",
    "\n",
    "- El área sombreada que representa la desviación es estrecha y varía de forma más suave lo que puede representar un comportamiento más estable y consistente.\n",
    "\n",
    "\n",
    "Este modelo es estable y consistente.\n",
    "\n",
    "No mejora drásticamente con la regularización, pero no se descontrola.\n",
    "\n",
    "Ideal si buscas robustez y baja varianza.\n",
    "\n",
    "__Curva 2 (MLP con 3 capas (100, 100 y 50 neuronas))__\n",
    "- Observamos que el MSE disminuye significativamente a medida que incrementamos el alpha\n",
    "\n",
    "- El margen de desviación es más amplio y menos regular respecto de los alphas cuando lo comparamos con la curva anterior, sobre todo con alphas pequeños. Esto puede indicar un comportamiento más volátil.\n",
    "\n",
    "- Tenemos una mejora progresiva a medida que incrementamos el alpha hasta que empieza a estabilizarse alrededor de alpha ≈ 1.5 con un MSE también cercano a 0.44.\n",
    "\n",
    "Debido a la pendiente más pronunciada de la curva, podríamos afirmar que este modelo tiene un mayor potencial de aprendizaje pero como comentamos tiene un comportamiento más volátil, lo que hace que cobre mayor importancia la regularización adecuada de los datos.\n",
    "\n",
    "Con alphas pequeños, sobreajusta o no converge bien dándonos dicha inestabilidad, pero a partir de cierto alpha mejora al modelo de 1 capa.\n",
    "\n",
    "__Decisión__\n",
    "\n",
    "A pesar de la inestabilidad que presenta para alphas pequeños el segundo modelo, elegiríamos finalmente este debido a que acaba presentando un MSE menor y tomando un alpha alrededor de 1.75 no tenemos esa volatilidad presente en los alphas menores y la desviación solo es ligeramente superior a la del primer modelo.\n",
    "\n",
    "El modelo de 1 capa es más regular y estable pero también presenta un MSE ligeramente más elevado. Si tuvieramos pocos datos elegiríamos este ya que no podríamos fiarnos de la inestabilidad del segundo, pero si somos capaces de regular correctamente los datos, el de múltiples capas consigue un resultado mejor."
   ]
  },
  {
   "cell_type": "markdown",
   "id": "laden-asbestos",
   "metadata": {
    "id": "laden-asbestos"
   },
   "source": [
    "## 6) Medición y análisis del error\n",
    "\n",
    "Elige la mejor configuración del apartado anterior y usa la función `cross_val_predict` para realizar una predicción de la calidad de todos los vinos usando validación cruzada.\n",
    "\n",
    "A continuación:\n",
    "- Muestra varias medidas de error y razona sobre si el error te parece pequeño o no para el problema que estás analizando\n",
    "- Muestra el histograma de la distribución del error o del error en valor absoluto, y razona de nuevo si te parece que el modelo ha predicho bien o no. Identifica los vinos para los cuales el modelo ha fallado más.\n",
    "- Analiza el error cometido para los vinos según su puntuación de calidad observada (3, 4, etc). Describe lo que sucede, explica por qué crees que sucedió y razona de nuevo si te parece que el modelo funciona bien o tiene limitaciones.\n",
    "- Compara los resultados obtenidos (al menos MSE) con el mejor modelo de kNN."
   ]
  },
  {
   "cell_type": "markdown",
   "id": "7f3e7a01-d3cb-447b-b6cd-74499e1f1e15",
   "metadata": {},
   "source": [
    "Primero usemos cross_val_predict para realizar la predicción de la calidad de todos los vinos con la red neuronal con dos capas ocultas de 100 neuronas y una de 50."
   ]
  },
  {
   "cell_type": "code",
   "execution_count": 81,
   "id": "linear-federation",
   "metadata": {
    "executionInfo": {
     "elapsed": 426,
     "status": "ok",
     "timestamp": 1741864767509,
     "user": {
      "displayName": "Ruben Fuentes-Fernandez",
      "userId": "00594856101550945388"
     },
     "user_tz": -60
    },
    "id": "linear-federation"
   },
   "outputs": [],
   "source": [
    "from sklearn.model_selection import cross_val_predict\n",
    "\n",
    "mlp_best = MLPRegressor(hidden_layer_sizes=(100,100,50), alpha=alpha, max_iter=5000, random_state=RANDOM_STATE)\n",
    "\n",
    "# Predicción de la calidad de todos los vinos usando validación cruzada\n",
    "y_pred = cross_val_predict(mlp_best, X_scaled_df, y, cv=10)"
   ]
  },
  {
   "cell_type": "markdown",
   "id": "7aaeb598-3a1d-4d46-84ec-ef6147f18f29",
   "metadata": {},
   "source": [
    "Calculemos el Mean Squared Error, el Mean Absolute Error y el score r2 de la predicción frente la valoración real."
   ]
  },
  {
   "cell_type": "code",
   "execution_count": 85,
   "id": "99e3ece1-e799-414e-9326-3c4eb45699ba",
   "metadata": {},
   "outputs": [
    {
     "name": "stdout",
     "output_type": "stream",
     "text": [
      "MSE: 0.4230\n",
      "MAE: 0.5053\n",
      "R²: 0.3511\n"
     ]
    }
   ],
   "source": [
    "from sklearn.metrics import mean_squared_error, mean_absolute_error, r2_score\n",
    "\n",
    "mse = mean_squared_error(y, y_pred)\n",
    "mae = mean_absolute_error(y, y_pred)\n",
    "r2 = r2_score(y, y_pred)\n",
    "\n",
    "print(f\"MSE: {mse:.4f}\")\n",
    "print(f\"MAE: {mae:.4f}\")\n",
    "print(f\"R²: {r2:.4f}\")"
   ]
  },
  {
   "cell_type": "markdown",
   "id": "d09c7074-540f-4818-a615-3afc7dfc027a",
   "metadata": {},
   "source": [
    "Observamos que tanto el MSE como el MAE rondan el 0.5, error que consideramos aceptable teniendo en cuenta que estamos trabajando con una escala de 0 a 10. \n",
    "\n",
    "Por otro lado, tenemos un R2 de 0.3511, este estadístico es el coeficiente de determinación y mide como de bien nuestro modelo se ajusta y predice la realidad (los datos dados). Un valor de 1 indica que el modelo predice perfectamente todos los valores y un valor de 0 nos dice que el modelo es igual de bueno que predecir la media.\n",
    "\n",
    "En nuestro caso concreto, tenemos un valor de 0.35 lo cuál indica que el modelo es capaz de explicar el 35.11% de la variabilidad de la calidad del vino. Este es un valor moderado que nos indica que el modelo es capaz de detectar patrones en los datos, pero hay gran parte de la variabilidad que no está consiguiendo ser explicada todavía."
   ]
  },
  {
   "cell_type": "code",
   "execution_count": 92,
   "id": "fd5bc86d-a532-4dc9-aca3-534840093460",
   "metadata": {},
   "outputs": [
    {
     "data": {
      "image/png": "[encoded data removed]",
      "text/plain": [
       "<Figure size 800x500 with 1 Axes>"
      ]
     },
     "metadata": {},
     "output_type": "display_data"
    }
   ],
   "source": [
    "#Calculamos el vector de valores absolutos\n",
    "error_abs = np.abs(y - y_pred)\n",
    "\n",
    "plt.figure(figsize=(8,5))\n",
    "\n",
    "#Hacemos el histograma dividiendo los datos en 20 barras\n",
    "plt.hist(error_abs, bins=20, edgecolor='black')\n",
    "\n",
    "plt.title('Histograma del error absoluto en la predicción de calidad')\n",
    "plt.xlabel('Error absoluto')\n",
    "plt.ylabel('Número de vinos')\n",
    "plt.grid(True)\n",
    "plt.show()"
   ]
  },
  {
   "cell_type": "markdown",
   "id": "06123b8b-8740-447e-8a50-b22f916e1d2e",
   "metadata": {},
   "source": [
    "Observamos que el grueso de errores están alrededor de 0.5 de error siendo muy pocos los que ya pasan del 1. Podemos afirmar que el modelo predice adecuadamente la calidad de los vinos ya que consideramos que un error de aproximadamente 0.5 no es un error significativo cuando estamos tratando en una escala de 0 a 10. Calculemos los estadísticos del error agrupando los vinos por su calidad para ver si podemos extraer alguna conclusión y viendo para que vinos falla más."
   ]
  },
  {
   "cell_type": "code",
   "execution_count": 125,
   "id": "725097c5-1c9b-4481-8605-bdf1f8dd73b2",
   "metadata": {},
   "outputs": [
    {
     "data": {
      "text/html": [
       "<div>\n",
       "<style scoped>\n",
       "    .dataframe tbody tr th:only-of-type {\n",
       "        vertical-align: middle;\n",
       "    }\n",
       "\n",
       "    .dataframe tbody tr th {\n",
       "        vertical-align: top;\n",
       "    }\n",
       "\n",
       "    .dataframe thead th {\n",
       "        text-align: right;\n",
       "    }\n",
       "</style>\n",
       "<table border=\"1\" class=\"dataframe\">\n",
       "  <thead>\n",
       "    <tr style=\"text-align: right;\">\n",
       "      <th></th>\n",
       "      <th>count</th>\n",
       "      <th>mean</th>\n",
       "      <th>std</th>\n",
       "      <th>min</th>\n",
       "      <th>25%</th>\n",
       "      <th>50%</th>\n",
       "      <th>75%</th>\n",
       "      <th>max</th>\n",
       "    </tr>\n",
       "    <tr>\n",
       "      <th>calidad_real</th>\n",
       "      <th></th>\n",
       "      <th></th>\n",
       "      <th></th>\n",
       "      <th></th>\n",
       "      <th></th>\n",
       "      <th></th>\n",
       "      <th></th>\n",
       "      <th></th>\n",
       "    </tr>\n",
       "  </thead>\n",
       "  <tbody>\n",
       "    <tr>\n",
       "      <th>3</th>\n",
       "      <td>10.0</td>\n",
       "      <td>1.981535</td>\n",
       "      <td>0.393424</td>\n",
       "      <td>1.335562</td>\n",
       "      <td>1.775117</td>\n",
       "      <td>1.905271</td>\n",
       "      <td>2.185169</td>\n",
       "      <td>2.743460</td>\n",
       "    </tr>\n",
       "    <tr>\n",
       "      <th>4</th>\n",
       "      <td>53.0</td>\n",
       "      <td>1.311676</td>\n",
       "      <td>0.433436</td>\n",
       "      <td>0.268064</td>\n",
       "      <td>1.046920</td>\n",
       "      <td>1.280672</td>\n",
       "      <td>1.482684</td>\n",
       "      <td>2.242370</td>\n",
       "    </tr>\n",
       "    <tr>\n",
       "      <th>5</th>\n",
       "      <td>681.0</td>\n",
       "      <td>0.396808</td>\n",
       "      <td>0.317316</td>\n",
       "      <td>0.001555</td>\n",
       "      <td>0.161978</td>\n",
       "      <td>0.317764</td>\n",
       "      <td>0.540244</td>\n",
       "      <td>2.290599</td>\n",
       "    </tr>\n",
       "    <tr>\n",
       "      <th>6</th>\n",
       "      <td>638.0</td>\n",
       "      <td>0.415239</td>\n",
       "      <td>0.274174</td>\n",
       "      <td>0.002926</td>\n",
       "      <td>0.204113</td>\n",
       "      <td>0.360021</td>\n",
       "      <td>0.607148</td>\n",
       "      <td>1.414529</td>\n",
       "    </tr>\n",
       "    <tr>\n",
       "      <th>7</th>\n",
       "      <td>199.0</td>\n",
       "      <td>0.780471</td>\n",
       "      <td>0.415270</td>\n",
       "      <td>0.010282</td>\n",
       "      <td>0.455754</td>\n",
       "      <td>0.745632</td>\n",
       "      <td>1.062627</td>\n",
       "      <td>2.105908</td>\n",
       "    </tr>\n",
       "    <tr>\n",
       "      <th>8</th>\n",
       "      <td>18.0</td>\n",
       "      <td>1.561149</td>\n",
       "      <td>0.332184</td>\n",
       "      <td>0.902653</td>\n",
       "      <td>1.281531</td>\n",
       "      <td>1.585127</td>\n",
       "      <td>1.842834</td>\n",
       "      <td>2.062819</td>\n",
       "    </tr>\n",
       "  </tbody>\n",
       "</table>\n",
       "</div>"
      ],
      "text/plain": [
       "              count      mean       std       min       25%       50%  \\\n",
       "calidad_real                                                            \n",
       "3              10.0  1.981535  0.393424  1.335562  1.775117  1.905271   \n",
       "4              53.0  1.311676  0.433436  0.268064  1.046920  1.280672   \n",
       "5             681.0  0.396808  0.317316  0.001555  0.161978  0.317764   \n",
       "6             638.0  0.415239  0.274174  0.002926  0.204113  0.360021   \n",
       "7             199.0  0.780471  0.415270  0.010282  0.455754  0.745632   \n",
       "8              18.0  1.561149  0.332184  0.902653  1.281531  1.585127   \n",
       "\n",
       "                   75%       max  \n",
       "calidad_real                      \n",
       "3             2.185169  2.743460  \n",
       "4             1.482684  2.242370  \n",
       "5             0.540244  2.290599  \n",
       "6             0.607148  1.414529  \n",
       "7             1.062627  2.105908  \n",
       "8             1.842834  2.062819  "
      ]
     },
     "execution_count": 125,
     "metadata": {},
     "output_type": "execute_result"
    }
   ],
   "source": [
    "df_erroresSegunCalidad = pd.DataFrame({'calidad_real': y, 'calidad_prediccion': y_pred, 'error_abs':error_abs })\n",
    "errores_agrupados = df_erroresSegunCalidad.groupby('calidad_real')['error_abs'].describe()\n",
    "errores_agrupados"
   ]
  },
  {
   "cell_type": "markdown",
   "id": "c120d1be-0990-42ea-933a-532d12649ef3",
   "metadata": {},
   "source": [
    "Como la varianza de cada grupo es baja podemos analizar en base a la media. Vemos claramente que los grupos con medias mayores son de los grupos de vinos que tenemos menos individuos. Luego probablemente el modelo no predice correctamente estos vinos por falta de datos que le permitan entrenar correctamente ya que hay una relación inversamente proporcional entre la media del error y el número de individuos que tenemos de cada grupo."
   ]
  },
  {
   "cell_type": "markdown",
   "id": "f00535b2-7b7c-4ac1-8eda-c4597a74e80b",
   "metadata": {},
   "source": [
    "Por esto, parece que el modelo funciona correctamente si se le proporcionan los suficientes datos para que sea capaz de entrenarse. Proporcionándole un mayor número de individuos de los grupos de calidad 3, 4 y 8 seríamos capaces de bajar significativamente el error a la hora de predecirlos."
   ]
  },
  {
   "cell_type": "markdown",
   "id": "37723df1-d85b-4d2c-8a32-bf59fd6c2989",
   "metadata": {},
   "source": [
    "__Comparación de errores con kNN__\n",
    "\n",
    "Recordamos que el mejor valor que obtuvimos para kNN fue un error cuadrático medio de 0.4454 (k=20), y el valor que nos da para este este modelo es 0.4230.\n",
    "\n",
    "Vemos que el MLP supera ligeramente al kNN. Sabemos que de forma general el MLP es capaz de modelar relaciones no lineales con una mayor facilidad que otros modelos como kNN. A pesar de que esta diferencia no es demasiado significativa, es útil saber que el MLP predice ligeramente mejor por si quisieramos escalar las aplicaciones a otros conjuntos de datos o ampliando el ya existente (reforzando los grupos mencionados anteriormente).\n",
    "\n",
    "Que el kNN de unos resultados de error tan próximos a MLP, puede deberse al filtrado de variables que hicimos en los primeros apartados tras el análisis de la correlación de las distintas variables con la variable objetivo (calidad).\n",
    "\n",
    "Nuestro MLP dió un Error Absoluto Medio de 0.5053 mientras que el kNN con k=20 tuvo 0.5238. De nuevo, el MLP tiene un error ligeramente menor, luego esto reafirma las conclusiones tomadas."
   ]
  }
 ],
 "metadata": {
  "colab": {
   "provenance": []
  },
  "kernelspec": {
   "display_name": "Python 3 (ipykernel)",
   "language": "python",
   "name": "python3"
  },
  "language_info": {
   "codemirror_mode": {
    "name": "ipython",
    "version": 3
   },
   "file_extension": ".py",
   "mimetype": "text/x-python",
   "name": "python",
   "nbconvert_exporter": "python",
   "pygments_lexer": "ipython3",
   "version": "3.12.4"
  }
 },
 "nbformat": 4,
 "nbformat_minor": 5
}
